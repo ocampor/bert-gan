{
 "cells": [
  {
   "cell_type": "code",
   "execution_count": 1,
   "outputs": [
    {
     "name": "stderr",
     "output_type": "stream",
     "text": [
      "2021-11-07 21:30:28.191346: I tensorflow/stream_executor/cuda/cuda_gpu_executor.cc:923] could not open file to read NUMA node: /sys/bus/pci/devices/0000:01:00.0/numa_node\n",
      "Your kernel may have been built without NUMA support.\n",
      "2021-11-07 21:30:28.237013: W tensorflow/stream_executor/platform/default/dso_loader.cc:64] Could not load dynamic library 'libcudnn.so.8'; dlerror: libcudnn.so.8: cannot open shared object file: No such file or directory\n",
      "2021-11-07 21:30:28.237165: W tensorflow/core/common_runtime/gpu/gpu_device.cc:1835] Cannot dlopen some GPU libraries. Please make sure the missing libraries mentioned above are installed properly if you would like to use GPU. Follow the guide at https://www.tensorflow.org/install/gpu for how to download and setup the required libraries for your platform.\n",
      "Skipping registering GPU devices...\n",
      "2021-11-07 21:30:28.238401: I tensorflow/core/platform/cpu_feature_guard.cc:142] This TensorFlow binary is optimized with oneAPI Deep Neural Network Library (oneDNN) to use the following CPU instructions in performance-critical operations:  AVX2 FMA\n",
      "To enable them in other operations, rebuild TensorFlow with the appropriate compiler flags.\n"
     ]
    }
   ],
   "source": [
    "import tensorflow as tf\n",
    "import model\n",
    "\n",
    "X = [\"this is some text\", \"this is a bit more\"]\n",
    "y = tf.constant([[1, 0, 1, 0], [1, 1, 0, 0]], dtype=tf.float32)"
   ],
   "metadata": {
    "collapsed": false,
    "pycharm": {
     "name": "#%%\n"
    }
   }
  },
  {
   "cell_type": "code",
   "execution_count": 2,
   "outputs": [],
   "source": [
    "OUTPUT_SIZE = y.shape[-1]\n",
    "\n",
    "FAKE_BATCH_SIZE = 2\n",
    "FAKE_INPUT_SIZE = 100"
   ],
   "metadata": {
    "collapsed": false,
    "pycharm": {
     "name": "#%%\n"
    }
   }
  },
  {
   "cell_type": "code",
   "execution_count": 3,
   "outputs": [
    {
     "name": "stderr",
     "output_type": "stream",
     "text": [
      "2021-11-07 21:30:29.801880: I tensorflow/compiler/mlir/mlir_graph_optimization_pass.cc:185] None of the MLIR Optimization Passes are enabled (registered 2)\n"
     ]
    }
   ],
   "source": [
    "bert = model.BertEncoder(\n",
    "    tfhub_handle_preprocess=\"https://tfhub.dev/tensorflow/bert_en_uncased_preprocess/3\",\n",
    "    tfhub_handle_encoder=\"https://tfhub.dev/tensorflow/small_bert/bert_en_uncased_L-4_H-512_A-8/1\",\n",
    ")\n",
    "\n",
    "bert_sample = bert(X)\n",
    "bert_output_size = bert_sample.shape[1]\n",
    "\n",
    "fake_sample = tf.random.normal(\n",
    "    (FAKE_BATCH_SIZE, FAKE_INPUT_SIZE),\n",
    "    mean=0.0, stddev=1.0,\n",
    "    dtype=tf.float32\n",
    ")"
   ],
   "metadata": {
    "collapsed": false,
    "pycharm": {
     "name": "#%%\n"
    }
   }
  },
  {
   "cell_type": "code",
   "execution_count": 4,
   "metadata": {
    "collapsed": true
   },
   "outputs": [],
   "source": [
    "generator = model.GeneratorModel(hidden_size=bert_output_size)\n",
    "discriminator = model.DiscriminatorModel(\n",
    "    hidden_size=bert_output_size,\n",
    "    output_size=OUTPUT_SIZE\n",
    ")"
   ]
  },
  {
   "cell_type": "code",
   "execution_count": 5,
   "outputs": [],
   "source": [
    "generator_logits = generator(fake_sample)"
   ],
   "metadata": {
    "collapsed": false,
    "pycharm": {
     "name": "#%%\n"
    }
   }
  },
  {
   "cell_type": "code",
   "execution_count": 13,
   "outputs": [],
   "source": [
    "real = discriminator(bert_sample)\n",
    "fake = discriminator(generator_logits)"
   ],
   "metadata": {
    "collapsed": false,
    "pycharm": {
     "name": "#%%\n"
    }
   }
  },
  {
   "cell_type": "code",
   "execution_count": 14,
   "outputs": [],
   "source": [
    "is_fake_probabilities_real = real[\"probabilities\"][:, 0]\n",
    "is_fake_probabilities_fake = fake[\"probabilities\"][:, 0]\n",
    "class_probabilities_real = real[\"probabilities\"][:, 1:]"
   ],
   "metadata": {
    "collapsed": false,
    "pycharm": {
     "name": "#%%\n"
    }
   }
  },
  {
   "cell_type": "code",
   "execution_count": 15,
   "outputs": [],
   "source": [
    "epsilon = 0.001\n",
    "\n",
    "loss_supervised = -tf.math.reduce_mean(y[:, 1:] * tf.math.log(class_probabilities_real + epsilon))\n",
    "loss_unsupervised_real = -tf.math.reduce_mean(1 - tf.math.log(is_fake_probabilities_real + epsilon))\n",
    "loss_unsupervised_fake = -tf.math.reduce_mean(tf.math.log(is_fake_probabilities_fake + epsilon))\n",
    "\n",
    "discriminator_loss = loss_supervised + loss_unsupervised_real + loss_unsupervised_fake"
   ],
   "metadata": {
    "collapsed": false,
    "pycharm": {
     "name": "#%%\n"
    }
   }
  },
  {
   "cell_type": "code",
   "execution_count": 20,
   "outputs": [],
   "source": [
    "generator_loss = -tf.math.reduce_mean(1 - tf.math.log(is_fake_probabilities_fake + epsilon))\n",
    "\n",
    "generator_features = tf.math.reduce_mean(fake[\"hidden-layer\"], axis=0)\n",
    "real_features = tf.math.reduce_mean(real[\"hidden-layer\"], axis=0)\n",
    "feature_loss = tf.math.reduce_mean(tf.math.square(generator_features - real_features))\n",
    "\n",
    "generator_loss = generator_loss + feature_loss"
   ],
   "metadata": {
    "collapsed": false,
    "pycharm": {
     "name": "#%%\n"
    }
   }
  },
  {
   "cell_type": "code",
   "execution_count": 29,
   "outputs": [
    {
     "name": "stdout",
     "output_type": "stream",
     "text": [
      "The generator loss -2.544656991958618\n",
      "The generator loss 1.0323132276535034\n"
     ]
    }
   ],
   "source": [
    "print(f\"The generator loss {generator_loss.numpy()}\")\n",
    "print(f\"The generator loss {discriminator_loss.numpy()}\")"
   ],
   "metadata": {
    "collapsed": false,
    "pycharm": {
     "name": "#%%\n"
    }
   }
  }
 ],
 "metadata": {
  "kernelspec": {
   "display_name": "Python 3",
   "language": "python",
   "name": "python3"
  },
  "language_info": {
   "codemirror_mode": {
    "name": "ipython",
    "version": 2
   },
   "file_extension": ".py",
   "mimetype": "text/x-python",
   "name": "python",
   "nbconvert_exporter": "python",
   "pygments_lexer": "ipython2",
   "version": "2.7.6"
  }
 },
 "nbformat": 4,
 "nbformat_minor": 0
}