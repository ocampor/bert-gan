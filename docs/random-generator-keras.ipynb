{
 "cells": [
  {
   "cell_type": "code",
   "execution_count": 1,
   "outputs": [],
   "source": [
    "import tensorflow as tf"
   ],
   "metadata": {
    "collapsed": false,
    "pycharm": {
     "name": "#%%\n"
    }
   }
  },
  {
   "cell_type": "code",
   "execution_count": 2,
   "outputs": [],
   "source": [
    "class GeneratorModel(tf.keras.Model):\n",
    "    def __init__(self, hidden_size: int):\n",
    "        super(GeneratorModel, self).__init__()\n",
    "\n",
    "        # This is a simplifaction made by the author.\n",
    "        output_size = hidden_size\n",
    "        self.hidden_layer = tf.keras.layers.Dense(hidden_size, name=\"hidden-layer\")\n",
    "        self.dropout = tf.keras.layers.Dropout(0.1)\n",
    "        self.output_layer = tf.keras.layers.Dense(output_size, name=\"output-layer\")\n",
    "\n",
    "    def call(self, inputs, training=False):\n",
    "        net = self.hidden_layer(inputs)\n",
    "        net = tf.nn.leaky_relu(net)\n",
    "\n",
    "        if training:\n",
    "            net = self.dropout(net, training=training)\n",
    "\n",
    "        return self.output_layer(net)"
   ],
   "metadata": {
    "collapsed": false,
    "pycharm": {
     "name": "#%%\n"
    }
   }
  },
  {
   "cell_type": "code",
   "execution_count": 3,
   "outputs": [
    {
     "name": "stderr",
     "output_type": "stream",
     "text": [
      "2021-11-04 22:57:34.712347: I tensorflow/stream_executor/cuda/cuda_gpu_executor.cc:923] could not open file to read NUMA node: /sys/bus/pci/devices/0000:01:00.0/numa_node\n",
      "Your kernel may have been built without NUMA support.\n",
      "2021-11-04 22:57:34.775885: W tensorflow/stream_executor/platform/default/dso_loader.cc:64] Could not load dynamic library 'libcudnn.so.8'; dlerror: libcudnn.so.8: cannot open shared object file: No such file or directory\n",
      "2021-11-04 22:57:34.775900: W tensorflow/core/common_runtime/gpu/gpu_device.cc:1835] Cannot dlopen some GPU libraries. Please make sure the missing libraries mentioned above are installed properly if you would like to use GPU. Follow the guide at https://www.tensorflow.org/install/gpu for how to download and setup the required libraries for your platform.\n",
      "Skipping registering GPU devices...\n",
      "2021-11-04 22:57:34.776473: I tensorflow/core/platform/cpu_feature_guard.cc:142] This TensorFlow binary is optimized with oneAPI Deep Neural Network Library (oneDNN) to use the following CPU instructions in performance-critical operations:  AVX2 FMA\n",
      "To enable them in other operations, rebuild TensorFlow with the appropriate compiler flags.\n"
     ]
    }
   ],
   "source": [
    "batch_size = 10\n",
    "input_size = 100\n",
    "sample = tf.random.normal(\n",
    "    (batch_size, input_size),\n",
    "    mean=0.0, stddev=1.0,\n",
    "    dtype=tf.float32\n",
    ")"
   ],
   "metadata": {
    "collapsed": false,
    "pycharm": {
     "name": "#%%\n"
    }
   }
  },
  {
   "cell_type": "code",
   "execution_count": 4,
   "outputs": [
    {
     "name": "stdout",
     "output_type": "stream",
     "text": [
      "(10, 768)\n",
      "Model: \"generator_model\"\n",
      "_________________________________________________________________\n",
      "Layer (type)                 Output Shape              Param #   \n",
      "=================================================================\n",
      "hidden-layer (Dense)         multiple                  77568     \n",
      "_________________________________________________________________\n",
      "dropout (Dropout)            multiple                  0 (unused)\n",
      "_________________________________________________________________\n",
      "output-layer (Dense)         multiple                  590592    \n",
      "=================================================================\n",
      "Total params: 668,160\n",
      "Trainable params: 668,160\n",
      "Non-trainable params: 0\n",
      "_________________________________________________________________\n",
      "None\n"
     ]
    }
   ],
   "source": [
    "generator = GeneratorModel(768)\n",
    "\n",
    "# This is required so tensorflow can infer the input shape and then\n",
    "# print the summary.\n",
    "# Source: https://www.tensorflow.org/guide/keras/sequential_model?hl=zh-tw\n",
    "print(generator(sample).shape)\n",
    "print(generator.summary())"
   ],
   "metadata": {
    "collapsed": false,
    "pycharm": {
     "name": "#%%\n"
    }
   }
  }
 ],
 "metadata": {
  "kernelspec": {
   "display_name": "Python 3",
   "language": "python",
   "name": "python3"
  },
  "language_info": {
   "codemirror_mode": {
    "name": "ipython",
    "version": 2
   },
   "file_extension": ".py",
   "mimetype": "text/x-python",
   "name": "python",
   "nbconvert_exporter": "python",
   "pygments_lexer": "ipython2",
   "version": "2.7.6"
  }
 },
 "nbformat": 4,
 "nbformat_minor": 0
}