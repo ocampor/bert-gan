{
 "cells": [
  {
   "cell_type": "code",
   "execution_count": 1,
   "outputs": [],
   "source": [
    "import tensorflow as tf"
   ],
   "metadata": {
    "collapsed": false,
    "pycharm": {
     "name": "#%%\n"
    }
   }
  },
  {
   "cell_type": "code",
   "execution_count": 2,
   "outputs": [],
   "source": [
    "class DiscriminatorModel(tf.keras.Model):\n",
    "    def __init__(self, hidden_size: int, output_size: int):\n",
    "        super(DiscriminatorModel, self).__init__()\n",
    "        self.hidden_layer = tf.keras.layers.Dense(hidden_size, name=\"hidden-layer\")\n",
    "        self.dropout = tf.keras.layers.Dropout(0.1)\n",
    "        self.output_layer = tf.keras.layers.Dense(output_size, name=\"output-layer\")\n",
    "\n",
    "    def call(self, inputs, training=False):\n",
    "        net = self.hidden_layer(inputs)\n",
    "        net = tf.nn.leaky_relu(net)\n",
    "\n",
    "        if training:\n",
    "            net = self.self.dropout(net, training=training)\n",
    "\n",
    "        net = self.output_layer(net)\n",
    "        return tf.nn.softmax(net)"
   ],
   "metadata": {
    "collapsed": false,
    "pycharm": {
     "name": "#%%\n"
    }
   }
  },
  {
   "cell_type": "code",
   "execution_count": 26,
   "outputs": [
    {
     "name": "stdout",
     "output_type": "stream",
     "text": [
      "The output shape (1, 8)\n",
      "The model summary:\n",
      "Model: \"discriminator_model_11\"\n",
      "_________________________________________________________________\n",
      "Layer (type)                 Output Shape              Param #   \n",
      "=================================================================\n",
      "hidden-layer (Dense)         multiple                  590592    \n",
      "_________________________________________________________________\n",
      "dropout_13 (Dropout)         multiple                  0 (unused)\n",
      "_________________________________________________________________\n",
      "output-layer (Dense)         multiple                  6152      \n",
      "=================================================================\n",
      "Total params: 596,744\n",
      "Trainable params: 596,744\n",
      "Non-trainable params: 0\n",
      "_________________________________________________________________\n"
     ]
    }
   ],
   "source": [
    "batch_size = 1\n",
    "input_size = 768\n",
    "\n",
    "sample = tf.random.normal(\n",
    "    (batch_size, input_size),\n",
    "    mean=0.0, stddev=1.0,\n",
    "    dtype=input_dtype\n",
    ")\n",
    "\n",
    "discriminator = DiscriminatorModel(input_size, 8)\n",
    "print(f\"The output shape {discriminator(sample).shape}\")\n",
    "print(\"The model summary:\")\n",
    "discriminator.summary()"
   ],
   "metadata": {
    "collapsed": false,
    "pycharm": {
     "name": "#%%\n"
    }
   }
  }
 ],
 "metadata": {
  "kernelspec": {
   "display_name": "Python 3",
   "language": "python",
   "name": "python3"
  },
  "language_info": {
   "codemirror_mode": {
    "name": "ipython",
    "version": 2
   },
   "file_extension": ".py",
   "mimetype": "text/x-python",
   "name": "python",
   "nbconvert_exporter": "python",
   "pygments_lexer": "ipython2",
   "version": "2.7.6"
  }
 },
 "nbformat": 4,
 "nbformat_minor": 0
}